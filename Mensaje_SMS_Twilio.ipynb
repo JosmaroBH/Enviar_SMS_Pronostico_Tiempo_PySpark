{
 "cells": [
  {
   "cell_type": "code",
   "execution_count": 6,
   "metadata": {},
   "outputs": [],
   "source": [
    "#!pip3 install twilio"
   ]
  },
  {
   "cell_type": "code",
   "execution_count": 7,
   "metadata": {},
   "outputs": [],
   "source": [
    "import os\n",
    "from twilio.rest import Client\n",
    "from twilio_config import *\n",
    "import time\n",
    "\n",
    "from requests import Request, Session\n",
    "from requests.exceptions import ConnectionError, Timeout, TooManyRedirects\n",
    "import json\n",
    "\n",
    "\n",
    "import pandas as pd\n",
    "import requests\n",
    "from bs4  import BeautifulSoup\n",
    "from tqdm import tqdm\n",
    "\n",
    "from datetime import datetime\n"
   ]
  },
  {
   "cell_type": "markdown",
   "metadata": {},
   "source": [
    "# Armado de la URL"
   ]
  },
  {
   "cell_type": "code",
   "execution_count": 3,
   "metadata": {},
   "outputs": [
    {
     "data": {
      "text/plain": [
       "'http://api.weatherapi.com/v1/forecast.json?key=XXXXXXXXXXXXXXXXXXXX&q=Cusco&days=1&aqi=no&alerts=no'"
      ]
     },
     "execution_count": 3,
     "metadata": {},
     "output_type": "execute_result"
    }
   ],
   "source": [
    "query = 'Cusco'\n",
    "api_key = API_KEY_WAPI\n",
    "\n",
    "url_clima = 'http://api.weatherapi.com/v1/forecast.json?key='+api_key+'&q='+query+'&days=1&aqi=no&alerts=no'\n",
    "url_clima"
   ]
  },
  {
   "cell_type": "code",
   "execution_count": null,
   "metadata": {},
   "outputs": [],
   "source": [
    "response = requests.get(url_clima).json()"
   ]
  },
  {
   "cell_type": "code",
   "execution_count": null,
   "metadata": {},
   "outputs": [],
   "source": [
    "response"
   ]
  },
  {
   "cell_type": "code",
   "execution_count": 5,
   "metadata": {},
   "outputs": [
    {
     "data": {
      "text/plain": [
       "dict_keys(['location', 'current', 'forecast'])"
      ]
     },
     "execution_count": 5,
     "metadata": {},
     "output_type": "execute_result"
    }
   ],
   "source": [
    "response.keys()"
   ]
  },
  {
   "cell_type": "code",
   "execution_count": 6,
   "metadata": {},
   "outputs": [
    {
     "data": {
      "text/plain": [
       "dict_keys(['date', 'date_epoch', 'day', 'astro', 'hour'])"
      ]
     },
     "execution_count": 6,
     "metadata": {},
     "output_type": "execute_result"
    }
   ],
   "source": [
    "response['forecast']['forecastday'][0].keys()"
   ]
  },
  {
   "cell_type": "code",
   "execution_count": 7,
   "metadata": {},
   "outputs": [
    {
     "data": {
      "text/plain": [
       "24"
      ]
     },
     "execution_count": 7,
     "metadata": {},
     "output_type": "execute_result"
    }
   ],
   "source": [
    "len(response['forecast']['forecastday'][0]['hour'])"
   ]
  },
  {
   "cell_type": "code",
   "execution_count": 8,
   "metadata": {},
   "outputs": [
    {
     "data": {
      "text/plain": [
       "{'time_epoch': 1702270800,\n",
       " 'time': '2023-12-11 00:00',\n",
       " 'temp_c': 10.7,\n",
       " 'temp_f': 51.2,\n",
       " 'is_day': 0,\n",
       " 'condition': {'text': 'Patchy rain possible',\n",
       "  'icon': '//cdn.weatherapi.com/weather/64x64/night/176.png',\n",
       "  'code': 1063},\n",
       " 'wind_mph': 2.5,\n",
       " 'wind_kph': 4.0,\n",
       " 'wind_degree': 25,\n",
       " 'wind_dir': 'NNE',\n",
       " 'pressure_mb': 1016.0,\n",
       " 'pressure_in': 30.0,\n",
       " 'precip_mm': 0.07,\n",
       " 'precip_in': 0.0,\n",
       " 'humidity': 77,\n",
       " 'cloud': 70,\n",
       " 'feelslike_c': 10.9,\n",
       " 'feelslike_f': 51.5,\n",
       " 'windchill_c': 10.9,\n",
       " 'windchill_f': 51.5,\n",
       " 'heatindex_c': 10.7,\n",
       " 'heatindex_f': 51.2,\n",
       " 'dewpoint_c': 6.7,\n",
       " 'dewpoint_f': 44.1,\n",
       " 'will_it_rain': 1,\n",
       " 'chance_of_rain': 71,\n",
       " 'will_it_snow': 0,\n",
       " 'chance_of_snow': 0,\n",
       " 'vis_km': 10.0,\n",
       " 'vis_miles': 6.0,\n",
       " 'gust_mph': 2.9,\n",
       " 'gust_kph': 4.7,\n",
       " 'uv': 1.0}"
      ]
     },
     "execution_count": 8,
     "metadata": {},
     "output_type": "execute_result"
    }
   ],
   "source": [
    "response['forecast']['forecastday'][0]['hour'][0]"
   ]
  },
  {
   "cell_type": "code",
   "execution_count": 9,
   "metadata": {},
   "outputs": [
    {
     "data": {
      "text/plain": [
       "'2023-12-11'"
      ]
     },
     "execution_count": 9,
     "metadata": {},
     "output_type": "execute_result"
    }
   ],
   "source": [
    "response['forecast']['forecastday'][0]['hour'][0]['time'].split()[0] #Fecha"
   ]
  },
  {
   "cell_type": "code",
   "execution_count": 10,
   "metadata": {},
   "outputs": [
    {
     "data": {
      "text/plain": [
       "'00'"
      ]
     },
     "execution_count": 10,
     "metadata": {},
     "output_type": "execute_result"
    }
   ],
   "source": [
    "response['forecast']['forecastday'][0]['hour'][0]['time'].split()[1].split(':')[0] #Hora"
   ]
  },
  {
   "cell_type": "code",
   "execution_count": 11,
   "metadata": {},
   "outputs": [
    {
     "data": {
      "text/plain": [
       "'Patchy rain possible'"
      ]
     },
     "execution_count": 11,
     "metadata": {},
     "output_type": "execute_result"
    }
   ],
   "source": [
    "response['forecast']['forecastday'][0]['hour'][0]['condition']['text'] #Condition"
   ]
  },
  {
   "cell_type": "code",
   "execution_count": 12,
   "metadata": {},
   "outputs": [
    {
     "data": {
      "text/plain": [
       "10.7"
      ]
     },
     "execution_count": 12,
     "metadata": {},
     "output_type": "execute_result"
    }
   ],
   "source": [
    "response['forecast']['forecastday'][0]['hour'][0]['temp_c'] #Temperatura"
   ]
  },
  {
   "cell_type": "code",
   "execution_count": 13,
   "metadata": {},
   "outputs": [
    {
     "data": {
      "text/plain": [
       "1"
      ]
     },
     "execution_count": 13,
     "metadata": {},
     "output_type": "execute_result"
    }
   ],
   "source": [
    "response['forecast']['forecastday'][0]['hour'][0]['will_it_rain'] "
   ]
  },
  {
   "cell_type": "code",
   "execution_count": 14,
   "metadata": {},
   "outputs": [
    {
     "data": {
      "text/plain": [
       "71"
      ]
     },
     "execution_count": 14,
     "metadata": {},
     "output_type": "execute_result"
    }
   ],
   "source": [
    "response['forecast']['forecastday'][0]['hour'][0]['chance_of_rain']"
   ]
  },
  {
   "cell_type": "markdown",
   "metadata": {},
   "source": [
    "# Dataframe"
   ]
  },
  {
   "cell_type": "code",
   "execution_count": 15,
   "metadata": {},
   "outputs": [],
   "source": [
    "def get_forecast(response,i):\n",
    "    \n",
    "    fecha = response['forecast']['forecastday'][0]['hour'][i]['time'].split()[0]\n",
    "    hora = int(response['forecast']['forecastday'][0]['hour'][i]['time'].split()[1].split(':')[0])\n",
    "    condicion = response['forecast']['forecastday'][0]['hour'][i]['condition']['text']\n",
    "    tempe = float(response['forecast']['forecastday'][0]['hour'][i]['temp_c'])\n",
    "    rain = response['forecast']['forecastday'][0]['hour'][i]['will_it_rain']\n",
    "    prob_rain = response['forecast']['forecastday'][0]['hour'][i]['chance_of_rain']\n",
    "    \n",
    "    return fecha,hora,condicion,tempe,rain,prob_rain"
   ]
  },
  {
   "cell_type": "code",
   "execution_count": 16,
   "metadata": {},
   "outputs": [
    {
     "name": "stderr",
     "output_type": "stream",
     "text": [
      "100%|\u001b[32m██████████████████████████████████████████████████████████████████████████████████████████\u001b[0m| 24/24 [00:00<?, ?it/s]\u001b[0m\n"
     ]
    }
   ],
   "source": [
    "datos = []\n",
    "\n",
    "for i in tqdm(range(len(response['forecast']['forecastday'][0]['hour'])),colour = 'green'):\n",
    "    \n",
    "    datos.append(get_forecast(response,i))\n",
    "    "
   ]
  },
  {
   "cell_type": "code",
   "execution_count": 17,
   "metadata": {},
   "outputs": [
    {
     "data": {
      "text/plain": [
       "('2023-12-11', 0, 'Patchy rain possible', 10.7, 1, 71)"
      ]
     },
     "execution_count": 17,
     "metadata": {},
     "output_type": "execute_result"
    }
   ],
   "source": [
    "datos[0]"
   ]
  },
  {
   "cell_type": "code",
   "execution_count": 18,
   "metadata": {},
   "outputs": [
    {
     "data": {
      "text/html": [
       "<div>\n",
       "<style scoped>\n",
       "    .dataframe tbody tr th:only-of-type {\n",
       "        vertical-align: middle;\n",
       "    }\n",
       "\n",
       "    .dataframe tbody tr th {\n",
       "        vertical-align: top;\n",
       "    }\n",
       "\n",
       "    .dataframe thead th {\n",
       "        text-align: right;\n",
       "    }\n",
       "</style>\n",
       "<table border=\"1\" class=\"dataframe\">\n",
       "  <thead>\n",
       "    <tr style=\"text-align: right;\">\n",
       "      <th></th>\n",
       "      <th>Fecha</th>\n",
       "      <th>Hora</th>\n",
       "      <th>Condicion</th>\n",
       "      <th>Temperatura</th>\n",
       "      <th>Lluvia</th>\n",
       "      <th>prob_lluvia</th>\n",
       "    </tr>\n",
       "  </thead>\n",
       "  <tbody>\n",
       "    <tr>\n",
       "      <th>0</th>\n",
       "      <td>2023-12-11</td>\n",
       "      <td>0</td>\n",
       "      <td>Patchy rain possible</td>\n",
       "      <td>10.7</td>\n",
       "      <td>1</td>\n",
       "      <td>71</td>\n",
       "    </tr>\n",
       "    <tr>\n",
       "      <th>1</th>\n",
       "      <td>2023-12-11</td>\n",
       "      <td>1</td>\n",
       "      <td>Thundery outbreaks possible</td>\n",
       "      <td>10.5</td>\n",
       "      <td>1</td>\n",
       "      <td>87</td>\n",
       "    </tr>\n",
       "    <tr>\n",
       "      <th>2</th>\n",
       "      <td>2023-12-11</td>\n",
       "      <td>2</td>\n",
       "      <td>Thundery outbreaks possible</td>\n",
       "      <td>10.4</td>\n",
       "      <td>1</td>\n",
       "      <td>87</td>\n",
       "    </tr>\n",
       "    <tr>\n",
       "      <th>3</th>\n",
       "      <td>2023-12-11</td>\n",
       "      <td>3</td>\n",
       "      <td>Thundery outbreaks possible</td>\n",
       "      <td>10.2</td>\n",
       "      <td>1</td>\n",
       "      <td>77</td>\n",
       "    </tr>\n",
       "    <tr>\n",
       "      <th>4</th>\n",
       "      <td>2023-12-11</td>\n",
       "      <td>4</td>\n",
       "      <td>Thundery outbreaks possible</td>\n",
       "      <td>9.0</td>\n",
       "      <td>0</td>\n",
       "      <td>70</td>\n",
       "    </tr>\n",
       "    <tr>\n",
       "      <th>5</th>\n",
       "      <td>2023-12-11</td>\n",
       "      <td>5</td>\n",
       "      <td>Patchy rain possible</td>\n",
       "      <td>8.4</td>\n",
       "      <td>1</td>\n",
       "      <td>77</td>\n",
       "    </tr>\n",
       "    <tr>\n",
       "      <th>6</th>\n",
       "      <td>2023-12-11</td>\n",
       "      <td>6</td>\n",
       "      <td>Patchy rain possible</td>\n",
       "      <td>9.5</td>\n",
       "      <td>1</td>\n",
       "      <td>75</td>\n",
       "    </tr>\n",
       "    <tr>\n",
       "      <th>7</th>\n",
       "      <td>2023-12-11</td>\n",
       "      <td>7</td>\n",
       "      <td>Patchy rain possible</td>\n",
       "      <td>11.6</td>\n",
       "      <td>0</td>\n",
       "      <td>65</td>\n",
       "    </tr>\n",
       "    <tr>\n",
       "      <th>8</th>\n",
       "      <td>2023-12-11</td>\n",
       "      <td>8</td>\n",
       "      <td>Patchy light rain with thunder</td>\n",
       "      <td>13.0</td>\n",
       "      <td>1</td>\n",
       "      <td>94</td>\n",
       "    </tr>\n",
       "    <tr>\n",
       "      <th>9</th>\n",
       "      <td>2023-12-11</td>\n",
       "      <td>9</td>\n",
       "      <td>Patchy light rain with thunder</td>\n",
       "      <td>14.7</td>\n",
       "      <td>1</td>\n",
       "      <td>73</td>\n",
       "    </tr>\n",
       "    <tr>\n",
       "      <th>10</th>\n",
       "      <td>2023-12-11</td>\n",
       "      <td>10</td>\n",
       "      <td>Patchy rain possible</td>\n",
       "      <td>16.0</td>\n",
       "      <td>1</td>\n",
       "      <td>73</td>\n",
       "    </tr>\n",
       "    <tr>\n",
       "      <th>11</th>\n",
       "      <td>2023-12-11</td>\n",
       "      <td>11</td>\n",
       "      <td>Patchy rain possible</td>\n",
       "      <td>17.7</td>\n",
       "      <td>0</td>\n",
       "      <td>60</td>\n",
       "    </tr>\n",
       "    <tr>\n",
       "      <th>12</th>\n",
       "      <td>2023-12-11</td>\n",
       "      <td>12</td>\n",
       "      <td>Patchy rain possible</td>\n",
       "      <td>17.3</td>\n",
       "      <td>1</td>\n",
       "      <td>98</td>\n",
       "    </tr>\n",
       "    <tr>\n",
       "      <th>13</th>\n",
       "      <td>2023-12-11</td>\n",
       "      <td>13</td>\n",
       "      <td>Thundery outbreaks possible</td>\n",
       "      <td>16.1</td>\n",
       "      <td>1</td>\n",
       "      <td>88</td>\n",
       "    </tr>\n",
       "    <tr>\n",
       "      <th>14</th>\n",
       "      <td>2023-12-11</td>\n",
       "      <td>14</td>\n",
       "      <td>Thundery outbreaks possible</td>\n",
       "      <td>15.5</td>\n",
       "      <td>0</td>\n",
       "      <td>67</td>\n",
       "    </tr>\n",
       "    <tr>\n",
       "      <th>15</th>\n",
       "      <td>2023-12-11</td>\n",
       "      <td>15</td>\n",
       "      <td>Patchy rain possible</td>\n",
       "      <td>15.7</td>\n",
       "      <td>1</td>\n",
       "      <td>78</td>\n",
       "    </tr>\n",
       "    <tr>\n",
       "      <th>16</th>\n",
       "      <td>2023-12-11</td>\n",
       "      <td>16</td>\n",
       "      <td>Patchy rain possible</td>\n",
       "      <td>16.0</td>\n",
       "      <td>1</td>\n",
       "      <td>72</td>\n",
       "    </tr>\n",
       "    <tr>\n",
       "      <th>17</th>\n",
       "      <td>2023-12-11</td>\n",
       "      <td>17</td>\n",
       "      <td>Patchy rain possible</td>\n",
       "      <td>15.4</td>\n",
       "      <td>1</td>\n",
       "      <td>79</td>\n",
       "    </tr>\n",
       "    <tr>\n",
       "      <th>18</th>\n",
       "      <td>2023-12-11</td>\n",
       "      <td>18</td>\n",
       "      <td>Patchy rain possible</td>\n",
       "      <td>14.1</td>\n",
       "      <td>1</td>\n",
       "      <td>84</td>\n",
       "    </tr>\n",
       "    <tr>\n",
       "      <th>19</th>\n",
       "      <td>2023-12-11</td>\n",
       "      <td>19</td>\n",
       "      <td>Patchy rain possible</td>\n",
       "      <td>13.0</td>\n",
       "      <td>0</td>\n",
       "      <td>61</td>\n",
       "    </tr>\n",
       "    <tr>\n",
       "      <th>20</th>\n",
       "      <td>2023-12-11</td>\n",
       "      <td>20</td>\n",
       "      <td>Partly cloudy</td>\n",
       "      <td>16.0</td>\n",
       "      <td>1</td>\n",
       "      <td>74</td>\n",
       "    </tr>\n",
       "    <tr>\n",
       "      <th>21</th>\n",
       "      <td>2023-12-11</td>\n",
       "      <td>21</td>\n",
       "      <td>Patchy light rain with thunder</td>\n",
       "      <td>11.9</td>\n",
       "      <td>1</td>\n",
       "      <td>74</td>\n",
       "    </tr>\n",
       "    <tr>\n",
       "      <th>22</th>\n",
       "      <td>2023-12-11</td>\n",
       "      <td>22</td>\n",
       "      <td>Patchy rain possible</td>\n",
       "      <td>11.6</td>\n",
       "      <td>0</td>\n",
       "      <td>63</td>\n",
       "    </tr>\n",
       "    <tr>\n",
       "      <th>23</th>\n",
       "      <td>2023-12-11</td>\n",
       "      <td>23</td>\n",
       "      <td>Patchy rain possible</td>\n",
       "      <td>10.8</td>\n",
       "      <td>1</td>\n",
       "      <td>78</td>\n",
       "    </tr>\n",
       "  </tbody>\n",
       "</table>\n",
       "</div>"
      ],
      "text/plain": [
       "         Fecha  Hora                       Condicion  Temperatura  Lluvia  \\\n",
       "0   2023-12-11     0            Patchy rain possible         10.7       1   \n",
       "1   2023-12-11     1     Thundery outbreaks possible         10.5       1   \n",
       "2   2023-12-11     2     Thundery outbreaks possible         10.4       1   \n",
       "3   2023-12-11     3     Thundery outbreaks possible         10.2       1   \n",
       "4   2023-12-11     4     Thundery outbreaks possible          9.0       0   \n",
       "5   2023-12-11     5            Patchy rain possible          8.4       1   \n",
       "6   2023-12-11     6            Patchy rain possible          9.5       1   \n",
       "7   2023-12-11     7            Patchy rain possible         11.6       0   \n",
       "8   2023-12-11     8  Patchy light rain with thunder         13.0       1   \n",
       "9   2023-12-11     9  Patchy light rain with thunder         14.7       1   \n",
       "10  2023-12-11    10            Patchy rain possible         16.0       1   \n",
       "11  2023-12-11    11            Patchy rain possible         17.7       0   \n",
       "12  2023-12-11    12            Patchy rain possible         17.3       1   \n",
       "13  2023-12-11    13     Thundery outbreaks possible         16.1       1   \n",
       "14  2023-12-11    14     Thundery outbreaks possible         15.5       0   \n",
       "15  2023-12-11    15            Patchy rain possible         15.7       1   \n",
       "16  2023-12-11    16            Patchy rain possible         16.0       1   \n",
       "17  2023-12-11    17            Patchy rain possible         15.4       1   \n",
       "18  2023-12-11    18            Patchy rain possible         14.1       1   \n",
       "19  2023-12-11    19            Patchy rain possible         13.0       0   \n",
       "20  2023-12-11    20                   Partly cloudy         16.0       1   \n",
       "21  2023-12-11    21  Patchy light rain with thunder         11.9       1   \n",
       "22  2023-12-11    22            Patchy rain possible         11.6       0   \n",
       "23  2023-12-11    23            Patchy rain possible         10.8       1   \n",
       "\n",
       "    prob_lluvia  \n",
       "0            71  \n",
       "1            87  \n",
       "2            87  \n",
       "3            77  \n",
       "4            70  \n",
       "5            77  \n",
       "6            75  \n",
       "7            65  \n",
       "8            94  \n",
       "9            73  \n",
       "10           73  \n",
       "11           60  \n",
       "12           98  \n",
       "13           88  \n",
       "14           67  \n",
       "15           78  \n",
       "16           72  \n",
       "17           79  \n",
       "18           84  \n",
       "19           61  \n",
       "20           74  \n",
       "21           74  \n",
       "22           63  \n",
       "23           78  "
      ]
     },
     "execution_count": 18,
     "metadata": {},
     "output_type": "execute_result"
    }
   ],
   "source": [
    "col = ['Fecha','Hora','Condicion','Temperatura','Lluvia','prob_lluvia']\n",
    "df = pd.DataFrame(datos,columns=col)\n",
    "df = df.sort_values(by = 'Hora',ascending = True)\n",
    "df"
   ]
  },
  {
   "cell_type": "code",
   "execution_count": 19,
   "metadata": {},
   "outputs": [],
   "source": [
    "# data_cli = {\n",
    "#     'Fecha':datos[0][0],\n",
    "#     'Hora':datos[1][],\n",
    "#     'Tiempo':condicion,\n",
    "#     'Temperatura':tempe,\n",
    "#     'LLoverá':rain,\n",
    "#     'prob_lluvia':prob_rain\n",
    "    \n",
    "# }\n",
    "\n",
    "# df = pd.DataFrame(data_cli)\n",
    "# df = df.sort_values(by = 'Hora',ascending = True)"
   ]
  },
  {
   "cell_type": "code",
   "execution_count": 20,
   "metadata": {},
   "outputs": [
    {
     "data": {
      "text/html": [
       "<div>\n",
       "<style scoped>\n",
       "    .dataframe tbody tr th:only-of-type {\n",
       "        vertical-align: middle;\n",
       "    }\n",
       "\n",
       "    .dataframe tbody tr th {\n",
       "        vertical-align: top;\n",
       "    }\n",
       "\n",
       "    .dataframe thead th {\n",
       "        text-align: right;\n",
       "    }\n",
       "</style>\n",
       "<table border=\"1\" class=\"dataframe\">\n",
       "  <thead>\n",
       "    <tr style=\"text-align: right;\">\n",
       "      <th></th>\n",
       "      <th>Fecha</th>\n",
       "      <th>Hora</th>\n",
       "      <th>Condicion</th>\n",
       "      <th>Temperatura</th>\n",
       "      <th>Lluvia</th>\n",
       "      <th>prob_lluvia</th>\n",
       "    </tr>\n",
       "  </thead>\n",
       "  <tbody>\n",
       "    <tr>\n",
       "      <th>0</th>\n",
       "      <td>2023-12-11</td>\n",
       "      <td>0</td>\n",
       "      <td>Patchy rain possible</td>\n",
       "      <td>10.7</td>\n",
       "      <td>1</td>\n",
       "      <td>71</td>\n",
       "    </tr>\n",
       "    <tr>\n",
       "      <th>1</th>\n",
       "      <td>2023-12-11</td>\n",
       "      <td>1</td>\n",
       "      <td>Thundery outbreaks possible</td>\n",
       "      <td>10.5</td>\n",
       "      <td>1</td>\n",
       "      <td>87</td>\n",
       "    </tr>\n",
       "    <tr>\n",
       "      <th>2</th>\n",
       "      <td>2023-12-11</td>\n",
       "      <td>2</td>\n",
       "      <td>Thundery outbreaks possible</td>\n",
       "      <td>10.4</td>\n",
       "      <td>1</td>\n",
       "      <td>87</td>\n",
       "    </tr>\n",
       "    <tr>\n",
       "      <th>3</th>\n",
       "      <td>2023-12-11</td>\n",
       "      <td>3</td>\n",
       "      <td>Thundery outbreaks possible</td>\n",
       "      <td>10.2</td>\n",
       "      <td>1</td>\n",
       "      <td>77</td>\n",
       "    </tr>\n",
       "    <tr>\n",
       "      <th>5</th>\n",
       "      <td>2023-12-11</td>\n",
       "      <td>5</td>\n",
       "      <td>Patchy rain possible</td>\n",
       "      <td>8.4</td>\n",
       "      <td>1</td>\n",
       "      <td>77</td>\n",
       "    </tr>\n",
       "    <tr>\n",
       "      <th>6</th>\n",
       "      <td>2023-12-11</td>\n",
       "      <td>6</td>\n",
       "      <td>Patchy rain possible</td>\n",
       "      <td>9.5</td>\n",
       "      <td>1</td>\n",
       "      <td>75</td>\n",
       "    </tr>\n",
       "    <tr>\n",
       "      <th>8</th>\n",
       "      <td>2023-12-11</td>\n",
       "      <td>8</td>\n",
       "      <td>Patchy light rain with thunder</td>\n",
       "      <td>13.0</td>\n",
       "      <td>1</td>\n",
       "      <td>94</td>\n",
       "    </tr>\n",
       "    <tr>\n",
       "      <th>9</th>\n",
       "      <td>2023-12-11</td>\n",
       "      <td>9</td>\n",
       "      <td>Patchy light rain with thunder</td>\n",
       "      <td>14.7</td>\n",
       "      <td>1</td>\n",
       "      <td>73</td>\n",
       "    </tr>\n",
       "    <tr>\n",
       "      <th>10</th>\n",
       "      <td>2023-12-11</td>\n",
       "      <td>10</td>\n",
       "      <td>Patchy rain possible</td>\n",
       "      <td>16.0</td>\n",
       "      <td>1</td>\n",
       "      <td>73</td>\n",
       "    </tr>\n",
       "    <tr>\n",
       "      <th>12</th>\n",
       "      <td>2023-12-11</td>\n",
       "      <td>12</td>\n",
       "      <td>Patchy rain possible</td>\n",
       "      <td>17.3</td>\n",
       "      <td>1</td>\n",
       "      <td>98</td>\n",
       "    </tr>\n",
       "    <tr>\n",
       "      <th>13</th>\n",
       "      <td>2023-12-11</td>\n",
       "      <td>13</td>\n",
       "      <td>Thundery outbreaks possible</td>\n",
       "      <td>16.1</td>\n",
       "      <td>1</td>\n",
       "      <td>88</td>\n",
       "    </tr>\n",
       "    <tr>\n",
       "      <th>15</th>\n",
       "      <td>2023-12-11</td>\n",
       "      <td>15</td>\n",
       "      <td>Patchy rain possible</td>\n",
       "      <td>15.7</td>\n",
       "      <td>1</td>\n",
       "      <td>78</td>\n",
       "    </tr>\n",
       "    <tr>\n",
       "      <th>16</th>\n",
       "      <td>2023-12-11</td>\n",
       "      <td>16</td>\n",
       "      <td>Patchy rain possible</td>\n",
       "      <td>16.0</td>\n",
       "      <td>1</td>\n",
       "      <td>72</td>\n",
       "    </tr>\n",
       "    <tr>\n",
       "      <th>17</th>\n",
       "      <td>2023-12-11</td>\n",
       "      <td>17</td>\n",
       "      <td>Patchy rain possible</td>\n",
       "      <td>15.4</td>\n",
       "      <td>1</td>\n",
       "      <td>79</td>\n",
       "    </tr>\n",
       "    <tr>\n",
       "      <th>18</th>\n",
       "      <td>2023-12-11</td>\n",
       "      <td>18</td>\n",
       "      <td>Patchy rain possible</td>\n",
       "      <td>14.1</td>\n",
       "      <td>1</td>\n",
       "      <td>84</td>\n",
       "    </tr>\n",
       "    <tr>\n",
       "      <th>20</th>\n",
       "      <td>2023-12-11</td>\n",
       "      <td>20</td>\n",
       "      <td>Partly cloudy</td>\n",
       "      <td>16.0</td>\n",
       "      <td>1</td>\n",
       "      <td>74</td>\n",
       "    </tr>\n",
       "    <tr>\n",
       "      <th>21</th>\n",
       "      <td>2023-12-11</td>\n",
       "      <td>21</td>\n",
       "      <td>Patchy light rain with thunder</td>\n",
       "      <td>11.9</td>\n",
       "      <td>1</td>\n",
       "      <td>74</td>\n",
       "    </tr>\n",
       "    <tr>\n",
       "      <th>23</th>\n",
       "      <td>2023-12-11</td>\n",
       "      <td>23</td>\n",
       "      <td>Patchy rain possible</td>\n",
       "      <td>10.8</td>\n",
       "      <td>1</td>\n",
       "      <td>78</td>\n",
       "    </tr>\n",
       "  </tbody>\n",
       "</table>\n",
       "</div>"
      ],
      "text/plain": [
       "         Fecha  Hora                       Condicion  Temperatura  Lluvia  \\\n",
       "0   2023-12-11     0            Patchy rain possible         10.7       1   \n",
       "1   2023-12-11     1     Thundery outbreaks possible         10.5       1   \n",
       "2   2023-12-11     2     Thundery outbreaks possible         10.4       1   \n",
       "3   2023-12-11     3     Thundery outbreaks possible         10.2       1   \n",
       "5   2023-12-11     5            Patchy rain possible          8.4       1   \n",
       "6   2023-12-11     6            Patchy rain possible          9.5       1   \n",
       "8   2023-12-11     8  Patchy light rain with thunder         13.0       1   \n",
       "9   2023-12-11     9  Patchy light rain with thunder         14.7       1   \n",
       "10  2023-12-11    10            Patchy rain possible         16.0       1   \n",
       "12  2023-12-11    12            Patchy rain possible         17.3       1   \n",
       "13  2023-12-11    13     Thundery outbreaks possible         16.1       1   \n",
       "15  2023-12-11    15            Patchy rain possible         15.7       1   \n",
       "16  2023-12-11    16            Patchy rain possible         16.0       1   \n",
       "17  2023-12-11    17            Patchy rain possible         15.4       1   \n",
       "18  2023-12-11    18            Patchy rain possible         14.1       1   \n",
       "20  2023-12-11    20                   Partly cloudy         16.0       1   \n",
       "21  2023-12-11    21  Patchy light rain with thunder         11.9       1   \n",
       "23  2023-12-11    23            Patchy rain possible         10.8       1   \n",
       "\n",
       "    prob_lluvia  \n",
       "0            71  \n",
       "1            87  \n",
       "2            87  \n",
       "3            77  \n",
       "5            77  \n",
       "6            75  \n",
       "8            94  \n",
       "9            73  \n",
       "10           73  \n",
       "12           98  \n",
       "13           88  \n",
       "15           78  \n",
       "16           72  \n",
       "17           79  \n",
       "18           84  \n",
       "20           74  \n",
       "21           74  \n",
       "23           78  "
      ]
     },
     "execution_count": 20,
     "metadata": {},
     "output_type": "execute_result"
    }
   ],
   "source": [
    "df[df['Lluvia']==1]"
   ]
  },
  {
   "cell_type": "code",
   "execution_count": 34,
   "metadata": {},
   "outputs": [],
   "source": [
    "df_rain =  df[(df['Lluvia']==1) & (df['Hora']>6) & (df['Hora']< 22)]\n",
    "df_rain = df_rain[['Hora','Condicion']]\n",
    "df_rain.set_index('Hora', inplace = True)"
   ]
  },
  {
   "cell_type": "code",
   "execution_count": 35,
   "metadata": {},
   "outputs": [
    {
     "data": {
      "text/plain": [
       "'2023-12-11'"
      ]
     },
     "execution_count": 35,
     "metadata": {},
     "output_type": "execute_result"
    }
   ],
   "source": [
    "df['Fecha'][0]"
   ]
  },
  {
   "cell_type": "code",
   "execution_count": 36,
   "metadata": {},
   "outputs": [
    {
     "data": {
      "text/html": [
       "<div>\n",
       "<style scoped>\n",
       "    .dataframe tbody tr th:only-of-type {\n",
       "        vertical-align: middle;\n",
       "    }\n",
       "\n",
       "    .dataframe tbody tr th {\n",
       "        vertical-align: top;\n",
       "    }\n",
       "\n",
       "    .dataframe thead th {\n",
       "        text-align: right;\n",
       "    }\n",
       "</style>\n",
       "<table border=\"1\" class=\"dataframe\">\n",
       "  <thead>\n",
       "    <tr style=\"text-align: right;\">\n",
       "      <th></th>\n",
       "      <th>Condicion</th>\n",
       "    </tr>\n",
       "    <tr>\n",
       "      <th>Hora</th>\n",
       "      <th></th>\n",
       "    </tr>\n",
       "  </thead>\n",
       "  <tbody>\n",
       "    <tr>\n",
       "      <th>8</th>\n",
       "      <td>Patchy light rain with thunder</td>\n",
       "    </tr>\n",
       "    <tr>\n",
       "      <th>9</th>\n",
       "      <td>Patchy light rain with thunder</td>\n",
       "    </tr>\n",
       "    <tr>\n",
       "      <th>10</th>\n",
       "      <td>Patchy rain possible</td>\n",
       "    </tr>\n",
       "    <tr>\n",
       "      <th>12</th>\n",
       "      <td>Patchy rain possible</td>\n",
       "    </tr>\n",
       "    <tr>\n",
       "      <th>13</th>\n",
       "      <td>Thundery outbreaks possible</td>\n",
       "    </tr>\n",
       "    <tr>\n",
       "      <th>15</th>\n",
       "      <td>Patchy rain possible</td>\n",
       "    </tr>\n",
       "    <tr>\n",
       "      <th>16</th>\n",
       "      <td>Patchy rain possible</td>\n",
       "    </tr>\n",
       "    <tr>\n",
       "      <th>17</th>\n",
       "      <td>Patchy rain possible</td>\n",
       "    </tr>\n",
       "    <tr>\n",
       "      <th>18</th>\n",
       "      <td>Patchy rain possible</td>\n",
       "    </tr>\n",
       "    <tr>\n",
       "      <th>20</th>\n",
       "      <td>Partly cloudy</td>\n",
       "    </tr>\n",
       "    <tr>\n",
       "      <th>21</th>\n",
       "      <td>Patchy light rain with thunder</td>\n",
       "    </tr>\n",
       "  </tbody>\n",
       "</table>\n",
       "</div>"
      ],
      "text/plain": [
       "                           Condicion\n",
       "Hora                                \n",
       "8     Patchy light rain with thunder\n",
       "9     Patchy light rain with thunder\n",
       "10              Patchy rain possible\n",
       "12              Patchy rain possible\n",
       "13       Thundery outbreaks possible\n",
       "15              Patchy rain possible\n",
       "16              Patchy rain possible\n",
       "17              Patchy rain possible\n",
       "18              Patchy rain possible\n",
       "20                     Partly cloudy\n",
       "21    Patchy light rain with thunder"
      ]
     },
     "execution_count": 36,
     "metadata": {},
     "output_type": "execute_result"
    }
   ],
   "source": [
    "df_rain"
   ]
  },
  {
   "cell_type": "code",
   "execution_count": 37,
   "metadata": {},
   "outputs": [
    {
     "data": {
      "text/plain": [
       "'\\nHola! \\n\\n\\n El pronostico del tiempo hoy 2023-12-11 en Cusco es : \\n\\n\\n                            Condicion\\nHora                                \\n8     Patchy light rain with thunder\\n9     Patchy light rain with thunder\\n10              Patchy rain possible\\n12              Patchy rain possible\\n13       Thundery outbreaks possible\\n15              Patchy rain possible\\n16              Patchy rain possible\\n17              Patchy rain possible\\n18              Patchy rain possible\\n20                     Partly cloudy\\n21    Patchy light rain with thunder'"
      ]
     },
     "execution_count": 37,
     "metadata": {},
     "output_type": "execute_result"
    }
   ],
   "source": [
    "'\\nHola! \\n\\n\\n El pronostico del tiempo hoy '+ df['Fecha'][0] +' en ' + query +' es : \\n\\n\\n ' + str(df_rain)"
   ]
  },
  {
   "cell_type": "code",
   "execution_count": 38,
   "metadata": {},
   "outputs": [
    {
     "data": {
      "text/plain": [
       "'+1 510 356 2265'"
      ]
     },
     "execution_count": 38,
     "metadata": {},
     "output_type": "execute_result"
    }
   ],
   "source": [
    "PHONE_NUMBER"
   ]
  },
  {
   "cell_type": "markdown",
   "metadata": {},
   "source": [
    "# Mensaje SMS desde Twilio"
   ]
  },
  {
   "cell_type": "code",
   "execution_count": 39,
   "metadata": {},
   "outputs": [
    {
     "name": "stdout",
     "output_type": "stream",
     "text": [
      "Mensaje Enviado SMb9474114938c6662ef1734c70225a768\n"
     ]
    }
   ],
   "source": [
    "time.sleep(2)\n",
    "account_sid = TWILIO_ACCOUNT_SID \n",
    "auth_token = TWILIO_AUTH_TOKEN\n",
    "\n",
    "client = Client(account_sid, auth_token)\n",
    "\n",
    "message = client.messages \\\n",
    "                .create(\n",
    "                     body='\\nHola Choto! \\n\\n\\n El pronostico de lluvia hoy '+ df['Fecha'][0] +' en ' + query +' es : \\n\\n\\n ' + str(df_rain),\n",
    "                     from_=PHONE_NUMBER,\n",
    "                     to='+51944242739'\n",
    "                 )\n",
    "\n",
    "print('Mensaje Enviado ' + message.sid)"
   ]
  }
 ],
 "metadata": {
  "kernelspec": {
   "display_name": "Python 3 (ipykernel)",
   "language": "python",
   "name": "python3"
  },
  "language_info": {
   "codemirror_mode": {
    "name": "ipython",
    "version": 3
   },
   "file_extension": ".py",
   "mimetype": "text/x-python",
   "name": "python",
   "nbconvert_exporter": "python",
   "pygments_lexer": "ipython3",
   "version": "3.11.5"
  }
 },
 "nbformat": 4,
 "nbformat_minor": 4
}
